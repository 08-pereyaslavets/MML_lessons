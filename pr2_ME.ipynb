{
 "cells": [
  {
   "cell_type": "code",
   "execution_count": 26,
   "id": "eeae7bfb",
   "metadata": {},
   "outputs": [],
   "source": [
    "import pandas as pd\n",
    "import numpy as np\n",
    "import matplotlib.pyplot as plt\n",
    "import seaborn as sns"
   ]
  },
  {
   "cell_type": "markdown",
   "id": "3711f0cd",
   "metadata": {},
   "source": [
    "<b></a><div class=\"alert alert-block alert-info\">Задание 1"
   ]
  },
  {
   "cell_type": "code",
   "execution_count": 14,
   "id": "e263a3d9",
   "metadata": {},
   "outputs": [],
   "source": [
    "#задаем исходную матрицу потребления и производства\n",
    "ce = np.array([[150, 180, 80],\n",
    "            [75, 270, 40],\n",
    "            [25, 60, 40]])\n",
    "\n",
    "#создаем единичную матрицу\n",
    "ed_matrix = np.eye(3)\n",
    "\n",
    "#задаем вектор конечного потребления\n",
    "Y = np.array([30, 25, 35])"
   ]
  },
  {
   "cell_type": "code",
   "execution_count": 15,
   "id": "3bfd4999",
   "metadata": {},
   "outputs": [
    {
     "data": {
      "text/plain": [
       "array([[150, 180,  80],\n",
       "       [ 75, 270,  40],\n",
       "       [ 25,  60,  40]])"
      ]
     },
     "execution_count": 15,
     "metadata": {},
     "output_type": "execute_result"
    }
   ],
   "source": [
    "ce"
   ]
  },
  {
   "cell_type": "code",
   "execution_count": 16,
   "id": "7ceb6c22",
   "metadata": {},
   "outputs": [],
   "source": [
    "sum_rows = []\n",
    "#суммируем элементы по каждой строке\n",
    "row_sums = np.sum(ce, axis=1) + Y\n",
    "\n",
    "#сумма по столбцам\n",
    "columns_sums = np.sum(ce, axis=0)"
   ]
  },
  {
   "cell_type": "code",
   "execution_count": 17,
   "id": "38462228",
   "metadata": {},
   "outputs": [
    {
     "data": {
      "text/plain": [
       "array([[0.6       , 0.35294118, 0.5       ],\n",
       "       [0.3       , 0.52941176, 0.25      ],\n",
       "       [0.1       , 0.11764706, 0.25      ]])"
      ]
     },
     "execution_count": 17,
     "metadata": {},
     "output_type": "execute_result"
    }
   ],
   "source": [
    "#создаем матрицу прямых производственных затрат\n",
    "A = ce / columns_sums\n",
    "A"
   ]
  },
  {
   "cell_type": "code",
   "execution_count": 22,
   "id": "aa02c41c",
   "metadata": {},
   "outputs": [
    {
     "data": {
      "text/plain": [
       "array([484., 615., 192.])"
      ]
     },
     "execution_count": 22,
     "metadata": {},
     "output_type": "execute_result"
    }
   ],
   "source": [
    "#умножаем вектор на вектор\n",
    "coef = np.array([1.1, 1.5, 1.2])\n",
    "new_prod = coef * row_sums\n",
    "new_prod"
   ]
  },
  {
   "cell_type": "code",
   "execution_count": 23,
   "id": "539f6e3b",
   "metadata": {},
   "outputs": [
    {
     "data": {
      "text/plain": [
       "array([[ 0.4       , -0.35294118, -0.5       ],\n",
       "       [-0.3       ,  0.47058824, -0.25      ],\n",
       "       [-0.1       , -0.11764706,  0.75      ]])"
      ]
     },
     "execution_count": 23,
     "metadata": {},
     "output_type": "execute_result"
    }
   ],
   "source": [
    "E_A = ed_matrix - A\n",
    "E_A"
   ]
  },
  {
   "cell_type": "code",
   "execution_count": 25,
   "id": "e9191e34",
   "metadata": {},
   "outputs": [
    {
     "data": {
      "text/plain": [
       "array([[-119.45882353],\n",
       "       [  96.21176471],\n",
       "       [  23.24705882]])"
      ]
     },
     "execution_count": 25,
     "metadata": {},
     "output_type": "execute_result"
    }
   ],
   "source": [
    "new_Y = E_A.dot(new_prod.reshape(3,1))\n",
    "new_Y"
   ]
  },
  {
   "cell_type": "code",
   "execution_count": null,
   "id": "2d93c60b",
   "metadata": {},
   "outputs": [],
   "source": [
    "#Объединяем в единый код\n",
    "\n",
    "ce = np.array([[150, 180, 80],\n",
    "            [75, 270, 40],\n",
    "            [25, 60, 40]]) #задаем исходную матрицу потребления и производства\n",
    "\n",
    "ed_matrix = np.eye(3) #создаем единичную матрицу\n",
    "Y = np.array([30, 25, 35]) #задаем вектор конечного потребления\n",
    "\n",
    "sum_rows = []\n",
    "row_sums = np.sum(ce, axis=1) + Y #суммируем элементы по каждой строке\n",
    "columns_sums = np.sum(ce, axis=0) #сумма по столбцам\n",
    "\n",
    "A = ce / columns_sums #создаем матрицу производственных затрат \n",
    "\n",
    "#умножаем вектор на вектор\n",
    "coef = np.array([1.1, 1.5, 1.2])\n",
    "new_prod = coef * row_sums\n",
    "\n",
    "E_A = ed_matrix - A #находим разность единичной матрицы и м-цы производственных затрат\n",
    "new_Y = E_A.dot(new_prod.reshape(3,1)) #находим новое конечное потребление"
   ]
  },
  {
   "cell_type": "markdown",
   "id": "a93e681e",
   "metadata": {},
   "source": [
    "</a><div class=\"alert alert-block alert-warning\"> Можем заметить, что полученное значение конечного потребления для 1-ой отрасли отрицательно (-119,5). Это может говорить о том, что увеличение валового выпуска на заданные проценты оказалось слишком большим, что привело к отрицательному конечному потреблению. Также стоит отметить, что полученная матрица Е_А является вырожденной (детерминанат мат-цы равен 0), что подтверждает идею того, что производственные затраты слишком велики по сравнению с производственными возможностями."
   ]
  },
  {
   "cell_type": "markdown",
   "id": "e3f0a045",
   "metadata": {},
   "source": [
    "<b></a><div class=\"alert alert-block alert-info\">Задание 2"
   ]
  },
  {
   "cell_type": "code",
   "execution_count": 27,
   "id": "745ea380",
   "metadata": {},
   "outputs": [
    {
     "data": {
      "text/plain": [
       "array([[300.],\n",
       "       [250.],\n",
       "       [200.]])"
      ]
     },
     "execution_count": 27,
     "metadata": {},
     "output_type": "execute_result"
    }
   ],
   "source": [
    "#задаем матрицу прямых производственных затрат\n",
    "A = np.array([[0.2, 0.1, 0.3],\n",
    "            [0.1, 0.3, 0.2],\n",
    "            [0.3, 0.2, 0.1]])\n",
    "\n",
    "ed_matrix = np.eye(3) #создаем единичную матрицу\n",
    "\n",
    "Y = np.array([155, 105, 40]) #задаем вектор конечного потребления\n",
    "\n",
    "E_A = ed_matrix - A #находим разность единичной матрицы и м-цы производственных затрат\n",
    "\n",
    "matrix_obr = np.linalg.inv(E_A) #создаем обратную матрицу\n",
    "\n",
    "val_vypusk = matrix_obr.dot(Y.reshape(3,1)) #перемножаем матрицу на вектор\n",
    "val_vypusk"
   ]
  },
  {
   "cell_type": "markdown",
   "id": "a8f4eddc",
   "metadata": {},
   "source": [
    "</a><div class=\"alert alert-block alert-warning\"> Полученные значения валового выпуска составили: для первой отрасли - 300, для второй - 250, для третьей - 200"
   ]
  }
 ],
 "metadata": {
  "kernelspec": {
   "display_name": "Python 3 (ipykernel)",
   "language": "python",
   "name": "python3"
  },
  "language_info": {
   "codemirror_mode": {
    "name": "ipython",
    "version": 3
   },
   "file_extension": ".py",
   "mimetype": "text/x-python",
   "name": "python",
   "nbconvert_exporter": "python",
   "pygments_lexer": "ipython3",
   "version": "3.10.9"
  }
 },
 "nbformat": 4,
 "nbformat_minor": 5
}
